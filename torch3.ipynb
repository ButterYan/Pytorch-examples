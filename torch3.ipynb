{
 "cells": [
  {
   "cell_type": "markdown",
   "metadata": {},
   "source": [
    "波士顿数据集LASSO回归的SGD实现"
   ]
  },
  {
   "cell_type": "code",
   "execution_count": 23,
   "metadata": {},
   "outputs": [],
   "source": [
    "import torch\n",
    "import torch.nn as nn\n",
    "import torch.optim as optim\n",
    "import numpy as np\n",
    "from sklearn.datasets import load_boston\n",
    "import matplotlib.pyplot as plt"
   ]
  },
  {
   "cell_type": "code",
   "execution_count": 24,
   "metadata": {},
   "outputs": [],
   "source": [
    "X,y=load_boston(return_X_y=True)\n",
    "tra_X=torch.tensor(X[0:380,:]).float()\n",
    "tra_y=torch.tensor(y[0:380]).float()\n",
    "tes_X=torch.tensor(X[380:,:]).float()\n",
    "tes_y=torch.tensor(y[380:]).float()"
   ]
  },
  {
   "cell_type": "code",
   "execution_count": 25,
   "metadata": {},
   "outputs": [],
   "source": [
    "class LASSO_regress(nn.Module):\n",
    "    def __init__(self):\n",
    "        super(LASSO_regress,self).__init__()\n",
    "        self.func=nn.Linear(13,1)\n",
    "    def forward(self,x):\n",
    "        return self.func(x)"
   ]
  },
  {
   "cell_type": "markdown",
   "metadata": {},
   "source": [
    "准备损失函数"
   ]
  },
  {
   "cell_type": "code",
   "execution_count": 26,
   "metadata": {},
   "outputs": [],
   "source": [
    "loss_fun1=nn.MSELoss()\n",
    "loss_fun2=nn.L1Loss()"
   ]
  },
  {
   "cell_type": "markdown",
   "metadata": {},
   "source": [
    "训练前定义网络与优化器"
   ]
  },
  {
   "cell_type": "code",
   "execution_count": 27,
   "metadata": {},
   "outputs": [],
   "source": [
    "mod=LASSO_regress()\n",
    "optimizer=optim.SGD(mod.parameters(),lr=0.0000004)"
   ]
  },
  {
   "cell_type": "code",
   "execution_count": 57,
   "metadata": {},
   "outputs": [
    {
     "name": "stdout",
     "output_type": "stream",
     "text": [
      "train error: tensor(47.5419, grad_fn=<AddBackward0>)\n"
     ]
    },
    {
     "data": {
      "image/png": "[encoded data removed]",
      "text/plain": [
       "<Figure size 432x288 with 1 Axes>"
      ]
     },
     "metadata": {
      "needs_background": "light"
     },
     "output_type": "display_data"
    }
   ],
   "source": [
    "lambda_L1=1\n",
    "recorder=np.zeros(10000)\n",
    "for i in range(0,10000):\n",
    "    optimizer.zero_grad()\n",
    "    pre=mod(tra_X)   \n",
    "    penalty=0\n",
    "    for name,par in mod.named_parameters():\n",
    "        if 'weight' in name:\n",
    "            penalty=penalty+lambda_L1*loss_fun2(par,torch.zeros(par.shape))\n",
    "    loss=loss_fun1(pre.squeeze(),tra_y)+penalty\n",
    "    recorder[i]=loss\n",
    "    loss.backward()\n",
    "    optimizer.step()\n",
    "\n",
    "\n",
    "plt.plot(recorder)\n",
    "plt.ylim(0,200)\n",
    "print('train error:',loss)"
   ]
  },
  {
   "cell_type": "code",
   "execution_count": 58,
   "metadata": {},
   "outputs": [
    {
     "name": "stdout",
     "output_type": "stream",
     "text": [
      "Parameter containing:\n",
      "tensor([[ 0.0034,  0.0760, -0.0043,  0.0024,  0.0007,  0.0471,  0.0778, -0.0178,\n",
      "          0.0360,  0.0022, -0.0174,  0.0661, -0.6631]], requires_grad=True)\n",
      "Parameter containing:\n",
      "tensor([-0.0348], requires_grad=True)\n"
     ]
    }
   ],
   "source": [
    "for par in mod.parameters():\n",
    "    print(par)"
   ]
  },
  {
   "cell_type": "markdown",
   "metadata": {},
   "source": [
    "比较训练与测试误差"
   ]
  },
  {
   "cell_type": "code",
   "execution_count": 59,
   "metadata": {},
   "outputs": [
    {
     "name": "stdout",
     "output_type": "stream",
     "text": [
      "test error: tensor(97.6328, grad_fn=<MseLossBackward0>)\n",
      "train error: tensor(47.4637, grad_fn=<MseLossBackward0>)\n"
     ]
    }
   ],
   "source": [
    "tes_pre=mod(tes_X)\n",
    "print('test error:',loss_fun1(tes_pre.squeeze(),tes_y))\n",
    "tra_pre=mod(tra_X)\n",
    "print('train error:',loss_fun1(tra_pre.squeeze(),tra_y))"
   ]
  },
  {
   "cell_type": "markdown",
   "metadata": {},
   "source": [
    "用sklearn包进行回归，与我们误差进行对比"
   ]
  },
  {
   "cell_type": "code",
   "execution_count": 60,
   "metadata": {},
   "outputs": [
    {
     "name": "stdout",
     "output_type": "stream",
     "text": [
      "21.198414282847672\n",
      "61.14752263950204\n"
     ]
    }
   ],
   "source": [
    "from sklearn.linear_model import LinearRegression\n",
    "tra_X2=X[0:380,:]\n",
    "tra_y2=y[0:380]\n",
    "tes_X2=X[380:,:]\n",
    "tes_y2=y[380:]\n",
    "reg = LinearRegression().fit(tra_X2,tra_y2)\n",
    "print(np.mean((reg.predict(tra_X2)-tra_y2)**2))\n",
    "print(np.mean((reg.predict(tes_X2)-tes_y2)**2))"
   ]
  }
 ],
 "metadata": {
  "kernelspec": {
   "display_name": "Python 3",
   "language": "python",
   "name": "python3"
  },
  "language_info": {
   "codemirror_mode": {
    "name": "ipython",
    "version": 3
   },
   "file_extension": ".py",
   "mimetype": "text/x-python",
   "name": "python",
   "nbconvert_exporter": "python",
   "pygments_lexer": "ipython3",
   "version": "3.8.5"
  }
 },
 "nbformat": 4,
 "nbformat_minor": 4
}
