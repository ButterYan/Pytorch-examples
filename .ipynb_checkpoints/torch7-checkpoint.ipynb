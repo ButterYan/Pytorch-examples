{
 "cells": [
  {
   "cell_type": "markdown",
   "metadata": {},
   "source": [
    "卷积神经网络与交叉熵损失函数的mnist数据集分类，对比不同激活函数的效果"
   ]
  },
  {
   "cell_type": "code",
   "execution_count": 28,
   "metadata": {},
   "outputs": [],
   "source": [
    "import torch\n",
    "import torch.nn as nn\n",
    "import numpy as np\n",
    "import torchvision.datasets as datasets\n",
    "import torchvision.transforms as transforms\n",
    "from torch.utils.data import DataLoader\n",
    "import time"
   ]
  },
  {
   "cell_type": "code",
   "execution_count": 29,
   "metadata": {},
   "outputs": [],
   "source": [
    "#读取数据集。\n",
    "transform=transforms.Compose([transforms.ToTensor(),transforms.Normalize(0.5,0.5)])\n",
    "tra=datasets.MNIST(root=\"data\",train=True, download=True,transform=transform)\n",
    "tes=datasets.MNIST(root=\"data\",train=False, download=True,transform=transform)\n",
    "tra_dloader = DataLoader(tra, batch_size=64, shuffle=True)\n",
    "tes_dloader = DataLoader(tes, batch_size=64, shuffle=True)"
   ]
  },
  {
   "cell_type": "code",
   "execution_count": 30,
   "metadata": {},
   "outputs": [],
   "source": [
    "#损失函数\n",
    "loss_fun=nn.CrossEntropyLoss()"
   ]
  },
  {
   "cell_type": "code",
   "execution_count": 31,
   "metadata": {},
   "outputs": [],
   "source": [
    "#整个数据集的读取器，用于计算整体loss与准确率。\n",
    "eva_loader_tra=DataLoader(tra, batch_size=len(tra), shuffle=True)\n",
    "eva_loader_tes=DataLoader(tes, batch_size=len(tes), shuffle=True)"
   ]
  },
  {
   "cell_type": "code",
   "execution_count": 32,
   "metadata": {},
   "outputs": [],
   "source": [
    "#建立网络，acti_fun是可变参数激活函数。\n",
    "class Net(nn.Module):\n",
    "    def __init__(self,acti_fun):\n",
    "        super(Net,self).__init__()\n",
    "        self.layer1=nn.Sequential(nn.Conv2d(1,3,5,padding=2),nn.BatchNorm2d(3),\n",
    "                                  acti_fun(),nn.AvgPool2d(2))\n",
    "        self.layer2=nn.Sequential(nn.Conv2d(3,6,5,padding=2),nn.BatchNorm2d(6),\n",
    "                                  acti_fun(),nn.AvgPool2d(2))\n",
    "        self.flatten=nn.Flatten(1,-1)\n",
    "        self.layer3 = nn.Sequential(nn.Linear(6*7*7,90),acti_fun())\n",
    "        self.layer4 = nn.Sequential(nn.Linear(90,30),acti_fun())\n",
    "        self.out=nn.Linear(30,10)\n",
    "    def forward(self,x):\n",
    "        x=self.layer1(x)\n",
    "        x=self.layer2(x)\n",
    "        x=self.flatten(x)\n",
    "        x=self.layer3(x)\n",
    "        x=self.layer4(x)\n",
    "        return self.out(x)"
   ]
  },
  {
   "cell_type": "code",
   "execution_count": 33,
   "metadata": {},
   "outputs": [],
   "source": [
    "#训练网络，记录训练时间。\n",
    "def training(acti_fun):\n",
    "    net=Net(acti_fun)\n",
    "    optimizer=torch.optim.Adam(net.parameters(),lr=0.01)\n",
    "    epoch=5\n",
    "    start_time=time.time()\n",
    "    for i in range(0,epoch):\n",
    "        for idx,data in enumerate(tra_dloader):\n",
    "            optimizer.zero_grad()\n",
    "            x=data[0]\n",
    "            target=data[1]\n",
    "            y=net(x)\n",
    "            loss=loss_fun(y,target)\n",
    "            loss.backward()\n",
    "            optimizer.step()\n",
    "        #每个epoch计算整个数据集的loss\n",
    "        for idx,data in enumerate(eva_loader_tra):\n",
    "            x=data[0]\n",
    "            target=data[1]\n",
    "            y=net(x)\n",
    "            total_loss=loss_fun(y,target)\n",
    "            #print('损失值:',total_loss)\n",
    "    end_time=time.time()\n",
    "    return net,end_time-start_time"
   ]
  },
  {
   "cell_type": "code",
   "execution_count": 34,
   "metadata": {},
   "outputs": [],
   "source": [
    "#计算预测准确率。\n",
    "def get_accuracy(net):\n",
    "    for idx,data in enumerate(eva_loader_tra):\n",
    "        x=data[0]\n",
    "        target=data[1]\n",
    "        y=net(x)\n",
    "        pre_y=torch.argmax(y,dim=1)\n",
    "        accur_tra=torch.sum(torch.eq(pre_y,target))/len(tra)\n",
    "        #print('测试集正确率:',accur_tra)\n",
    "    for idx,data in enumerate(eva_loader_tes):\n",
    "        x=data[0]\n",
    "        target=data[1]\n",
    "        y=net(x)\n",
    "        pre_y=torch.argmax(y,dim=1)\n",
    "        accur_tes=torch.sum(torch.eq(pre_y,target))/len(tes)\n",
    "        #print('测试集正确率:',accur_tes)\n",
    "    return accur_tra,accur_tes"
   ]
  },
  {
   "cell_type": "code",
   "execution_count": 35,
   "metadata": {},
   "outputs": [
    {
     "name": "stdout",
     "output_type": "stream",
     "text": [
      "ReLU 训练集正确率: tensor(0.9888) 测试集正确率: tensor(0.9854) 训练时间: 111.37960910797119\n",
      "ELU 训练集正确率: tensor(0.9819) 测试集正确率: tensor(0.9765) 训练时间: 119.52012538909912\n",
      "LeakyReLU 训练集正确率: tensor(0.9897) 测试集正确率: tensor(0.9870) 训练时间: 112.20423364639282\n",
      "Sigmoid 训练集正确率: tensor(0.9816) 测试集正确率: tensor(0.9798) 训练时间: 113.3835723400116\n",
      "Tanh 训练集正确率: tensor(0.9681) 测试集正确率: tensor(0.9713) 训练时间: 109.88344073295593\n",
      "HardTanh 训练集正确率: tensor(0.9595) 测试集正确率: tensor(0.9607) 训练时间: 111.55760645866394\n"
     ]
    }
   ],
   "source": [
    "act_fun_list=[nn.ReLU,nn.ELU,nn.LeakyReLU,nn.Sigmoid,nn.Tanh,nn.Hardtanh]\n",
    "act_fun_name=['ReLU','ELU','LeakyReLU','Sigmoid','Tanh','HardTanh']\n",
    "torch.manual_seed(0)\n",
    "for i in range(0,6):\n",
    "    recorder=training(act_fun_list[i])\n",
    "    Accuracy=get_accuracy(recorder[0])\n",
    "    print(act_fun_name[i],'训练集正确率:',Accuracy[0]\n",
    "          ,'测试集正确率:',Accuracy[1],'训练时间:',recorder[1])"
   ]
  },
  {
   "cell_type": "code",
   "execution_count": null,
   "metadata": {},
   "outputs": [],
   "source": []
  },
  {
   "cell_type": "code",
   "execution_count": null,
   "metadata": {},
   "outputs": [],
   "source": []
  }
 ],
 "metadata": {
  "kernelspec": {
   "display_name": "Python 3",
   "language": "python",
   "name": "python3"
  },
  "language_info": {
   "codemirror_mode": {
    "name": "ipython",
    "version": 3
   },
   "file_extension": ".py",
   "mimetype": "text/x-python",
   "name": "python",
   "nbconvert_exporter": "python",
   "pygments_lexer": "ipython3",
   "version": "3.8.5"
  }
 },
 "nbformat": 4,
 "nbformat_minor": 4
}
