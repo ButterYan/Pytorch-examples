{
 "cells": [
  {
   "cell_type": "markdown",
   "metadata": {},
   "source": [
    "波士顿数据集LASSO回归的SGD实现"
   ]
  },
  {
   "cell_type": "code",
   "execution_count": 1,
   "metadata": {},
   "outputs": [],
   "source": [
    "import torch\n",
    "import torch.nn as nn\n",
    "import torch.optim as optim\n",
    "import numpy as np\n",
    "from sklearn.datasets import load_boston\n",
    "import matplotlib.pyplot as plt"
   ]
  },
  {
   "cell_type": "code",
   "execution_count": 2,
   "metadata": {},
   "outputs": [],
   "source": [
    "X,y=load_boston(return_X_y=True)\n",
    "tra_X=torch.tensor(X[0:380,:]).float()\n",
    "tra_y=torch.tensor(y[0:380]).float()\n",
    "tes_X=torch.tensor(X[380:,:]).float()\n",
    "tes_y=torch.tensor(y[380:]).float()"
   ]
  },
  {
   "cell_type": "code",
   "execution_count": 3,
   "metadata": {},
   "outputs": [],
   "source": [
    "class LASSO_regress(nn.Module):\n",
    "    def __init__(self):\n",
    "        super(LASSO_regress,self).__init__()\n",
    "        self.func=nn.Linear(13,1)\n",
    "    def forward(self,x):\n",
    "        return self.func(x)"
   ]
  },
  {
   "cell_type": "markdown",
   "metadata": {},
   "source": [
    "准备损失函数"
   ]
  },
  {
   "cell_type": "code",
   "execution_count": 4,
   "metadata": {},
   "outputs": [],
   "source": [
    "loss_fun1=nn.MSELoss()\n",
    "loss_fun2=nn.L1Loss()"
   ]
  },
  {
   "cell_type": "markdown",
   "metadata": {},
   "source": [
    "训练前定义网络与优化器"
   ]
  },
  {
   "cell_type": "code",
   "execution_count": 5,
   "metadata": {},
   "outputs": [],
   "source": [
    "mod=LASSO_regress()\n",
    "optimizer=optim.SGD(mod.parameters(),lr=0.0000004)"
   ]
  },
  {
   "cell_type": "code",
   "execution_count": 7,
   "metadata": {},
   "outputs": [
    {
     "name": "stdout",
     "output_type": "stream",
     "text": [
      "Parameter containing:\n",
      "tensor([[-2.0139e-01,  7.0426e-02, -2.1538e-01, -2.1926e-07, -2.4099e-01,\n",
      "          7.9576e-02,  4.1807e-02, -2.1207e-01,  1.6856e-01,  4.2129e-03,\n",
      "         -4.4219e-02,  6.6735e-02, -2.7879e-01]], requires_grad=True)\n",
      "tensor(2.4987, grad_fn=<AddBackward0>)\n",
      "Parameter containing:\n",
      "tensor([[-2.0139e-01,  7.0428e-02, -2.1538e-01,  6.8968e-07, -2.4099e-01,\n",
      "          7.9579e-02,  4.1810e-02, -2.1207e-01,  1.6856e-01,  4.2127e-03,\n",
      "         -4.4221e-02,  6.6735e-02, -2.7880e-01]], requires_grad=True)\n",
      "tensor(2.4987, grad_fn=<AddBackward0>)\n",
      "Parameter containing:\n",
      "tensor([[-2.0139e-01,  7.0430e-02, -2.1537e-01,  3.6784e-07, -2.4099e-01,\n",
      "          7.9581e-02,  4.1814e-02, -2.1207e-01,  1.6857e-01,  4.2125e-03,\n",
      "         -4.4222e-02,  6.6735e-02, -2.7881e-01]], requires_grad=True)\n",
      "tensor(2.4988, grad_fn=<AddBackward0>)\n",
      "Parameter containing:\n",
      "tensor([[-2.0139e-01,  7.0432e-02, -2.1537e-01,  4.5997e-08, -2.4099e-01,\n",
      "          7.9584e-02,  4.1817e-02, -2.1208e-01,  1.6857e-01,  4.2123e-03,\n",
      "         -4.4223e-02,  6.6735e-02, -2.7882e-01]], requires_grad=True)\n",
      "tensor(2.4988, grad_fn=<AddBackward0>)\n",
      "Parameter containing:\n",
      "tensor([[-2.0139e-01,  7.0434e-02, -2.1537e-01, -2.7585e-07, -2.4099e-01,\n",
      "          7.9587e-02,  4.1820e-02, -2.1208e-01,  1.6857e-01,  4.2121e-03,\n",
      "         -4.4225e-02,  6.6735e-02, -2.7884e-01]], requires_grad=True)\n",
      "tensor(2.4988, grad_fn=<AddBackward0>)\n",
      "Parameter containing:\n",
      "tensor([[-2.0139e-01,  7.0436e-02, -2.1537e-01,  6.3308e-07, -2.4099e-01,\n",
      "          7.9590e-02,  4.1823e-02, -2.1208e-01,  1.6857e-01,  4.2120e-03,\n",
      "         -4.4226e-02,  6.6735e-02, -2.7885e-01]], requires_grad=True)\n",
      "tensor(2.4989, grad_fn=<AddBackward0>)\n",
      "Parameter containing:\n",
      "tensor([[-2.0139e-01,  7.0439e-02, -2.1537e-01,  3.1123e-07, -2.4099e-01,\n",
      "          7.9593e-02,  4.1826e-02, -2.1208e-01,  1.6857e-01,  4.2118e-03,\n",
      "         -4.4227e-02,  6.6734e-02, -2.7886e-01]], requires_grad=True)\n",
      "tensor(2.4989, grad_fn=<AddBackward0>)\n",
      "Parameter containing:\n",
      "tensor([[-2.0139e-01,  7.0441e-02, -2.1536e-01, -1.0620e-08, -2.4099e-01,\n",
      "          7.9596e-02,  4.1829e-02, -2.1208e-01,  1.6857e-01,  4.2116e-03,\n",
      "         -4.4229e-02,  6.6734e-02, -2.7887e-01]], requires_grad=True)\n",
      "tensor(2.4989, grad_fn=<AddBackward0>)\n",
      "Parameter containing:\n",
      "tensor([[-2.0139e-01,  7.0443e-02, -2.1536e-01,  8.9830e-07, -2.4099e-01,\n",
      "          7.9598e-02,  4.1832e-02, -2.1208e-01,  1.6857e-01,  4.2114e-03,\n",
      "         -4.4230e-02,  6.6734e-02, -2.7889e-01]], requires_grad=True)\n",
      "tensor(2.4990, grad_fn=<AddBackward0>)\n",
      "Parameter containing:\n",
      "tensor([[-2.0139e-01,  7.0445e-02, -2.1536e-01,  5.7644e-07, -2.4099e-01,\n",
      "          7.9601e-02,  4.1836e-02, -2.1208e-01,  1.6858e-01,  4.2112e-03,\n",
      "         -4.4232e-02,  6.6734e-02, -2.7890e-01]], requires_grad=True)\n",
      "tensor(2.4990, grad_fn=<AddBackward0>)\n",
      "train error: tensor(58.2803, grad_fn=<AddBackward0>)\n"
     ]
    },
    {
     "data": {
      "image/png": "[encoded data removed]",
      "text/plain": [
       "<Figure size 432x288 with 1 Axes>"
      ]
     },
     "metadata": {
      "needs_background": "light"
     },
     "output_type": "display_data"
    }
   ],
   "source": [
    "lambda_L1=20\n",
    "recorder=np.zeros(10000)\n",
    "for i in range(0,10):\n",
    "    optimizer.zero_grad()\n",
    "    pre=mod(tra_X)   \n",
    "    penalty=0\n",
    "    for name,par in mod.named_parameters():\n",
    "        if 'weight' in name:\n",
    "            penalty=penalty+lambda_L1*loss_fun2(par,torch.zeros(par.shape))\n",
    "            print(par)\n",
    "            print(penalty)\n",
    "    loss=loss_fun1(pre.squeeze(),tra_y)+penalty\n",
    "    recorder[i]=loss\n",
    "    loss.backward()\n",
    "    optimizer.step()\n",
    "\n",
    "\n",
    "plt.plot(recorder)\n",
    "plt.ylim(0,200)\n",
    "print('train error:',loss)"
   ]
  },
  {
   "cell_type": "code",
   "execution_count": 58,
   "metadata": {},
   "outputs": [
    {
     "name": "stdout",
     "output_type": "stream",
     "text": [
      "Parameter containing:\n",
      "tensor([[ 0.1435,  0.0809, -0.2538,  0.0042, -0.2175,  0.1607,  0.0407,  0.1966,\n",
      "          0.0253,  0.0017,  0.0244,  0.0535, -0.0162]], requires_grad=True)\n",
      "Parameter containing:\n",
      "tensor([0.2232], requires_grad=True)\n"
     ]
    }
   ],
   "source": [
    "for par in mod.parameters():\n",
    "    print(par)"
   ]
  },
  {
   "cell_type": "markdown",
   "metadata": {},
   "source": [
    "比较训练与测试误差"
   ]
  },
  {
   "cell_type": "code",
   "execution_count": 60,
   "metadata": {},
   "outputs": [
    {
     "name": "stdout",
     "output_type": "stream",
     "text": [
      "test error: tensor(92.3969, grad_fn=<MseLossBackward>)\n",
      "train error: tensor(70.3191, grad_fn=<MseLossBackward>)\n"
     ]
    }
   ],
   "source": [
    "tes_pre=mod(tes_X)\n",
    "print('test error:',loss_fun1(tes_pre.squeeze(),tes_y))\n",
    "tra_pre=mod(tra_X)\n",
    "print('train error:',loss_fun1(tra_pre.squeeze(),tra_y))"
   ]
  },
  {
   "cell_type": "markdown",
   "metadata": {},
   "source": [
    "用sklearn包进行回归，与我们误差进行对比"
   ]
  },
  {
   "cell_type": "code",
   "execution_count": 63,
   "metadata": {},
   "outputs": [
    {
     "name": "stdout",
     "output_type": "stream",
     "text": [
      "21.198414282847672\n",
      "61.14752263950204\n"
     ]
    }
   ],
   "source": [
    "from sklearn.linear_model import LinearRegression\n",
    "tra_X2=X[0:380,:]\n",
    "tra_y2=y[0:380]\n",
    "tes_X2=X[380:,:]\n",
    "tes_y2=y[380:]\n",
    "reg = LinearRegression().fit(tra_X2,tra_y2)\n",
    "print(np.mean((reg.predict(tra_X2)-tra_y2)**2))\n",
    "print(np.mean((reg.predict(tes_X2)-tes_y2)**2))"
   ]
  }
 ],
 "metadata": {
  "kernelspec": {
   "display_name": "Python 3",
   "language": "python",
   "name": "python3"
  },
  "language_info": {
   "codemirror_mode": {
    "name": "ipython",
    "version": 3
   },
   "file_extension": ".py",
   "mimetype": "text/x-python",
   "name": "python",
   "nbconvert_exporter": "python",
   "pygments_lexer": "ipython3",
   "version": "3.8.5"
  }
 },
 "nbformat": 4,
 "nbformat_minor": 4
}
