{
 "cells": [
  {
   "cell_type": "markdown",
   "metadata": {},
   "source": [
    "全连接神经网络与交叉熵损失函数的mnist数据集分类"
   ]
  },
  {
   "cell_type": "code",
   "execution_count": 2,
   "metadata": {},
   "outputs": [],
   "source": [
    "import torch\n",
    "import torch.nn as nn\n",
    "import numpy as np\n",
    "import torchvision.datasets as datasets\n",
    "import torchvision.transforms as transforms\n",
    "from torch.utils.data import DataLoader"
   ]
  },
  {
   "cell_type": "code",
   "execution_count": 3,
   "metadata": {},
   "outputs": [
    {
     "name": "stderr",
     "output_type": "stream",
     "text": [
      "D:\\python\\lib\\site-packages\\torchvision\\datasets\\mnist.py:498: UserWarning: The given NumPy array is not writeable, and PyTorch does not support non-writeable tensors. This means you can write to the underlying (supposedly non-writeable) NumPy array using the tensor. You may want to copy the array to protect its data or make it writeable before converting it to a tensor. This type of warning will be suppressed for the rest of this program. (Triggered internally at  ..\\torch\\csrc\\utils\\tensor_numpy.cpp:180.)\n",
      "  return torch.from_numpy(parsed.astype(m[2], copy=False)).view(*s)\n"
     ]
    }
   ],
   "source": [
    "tra=datasets.MNIST(root=\"data\",train=True, download=True,transform=transforms.ToTensor())\n",
    "tes=datasets.MNIST(root=\"data\",train=False, download=True,transform=transforms.ToTensor())\n",
    "tra_dloader = DataLoader(tra, batch_size=64, shuffle=True)\n",
    "tes_dloader = DataLoader(tes, batch_size=64, shuffle=True)"
   ]
  },
  {
   "cell_type": "markdown",
   "metadata": {},
   "source": [
    "先定义损失函数"
   ]
  },
  {
   "cell_type": "code",
   "execution_count": 4,
   "metadata": {},
   "outputs": [],
   "source": [
    "loss_fun=nn.CrossEntropyLoss()"
   ]
  },
  {
   "cell_type": "markdown",
   "metadata": {},
   "source": [
    "单层神经网络定义"
   ]
  },
  {
   "cell_type": "code",
   "execution_count": 5,
   "metadata": {},
   "outputs": [],
   "source": [
    "class Net1(nn.Module):\n",
    "    def __init__(self):\n",
    "        super(Net1,self).__init__()\n",
    "        self.flatten=nn.Flatten(1,-1)\n",
    "        self.fun = nn.Linear(28*28,10)\n",
    "    def forward(self,x):\n",
    "        x=self.flatten(x)\n",
    "        return self.fun(x)"
   ]
  },
  {
   "cell_type": "markdown",
   "metadata": {},
   "source": [
    "单层网络训练"
   ]
  },
  {
   "cell_type": "code",
   "execution_count": 6,
   "metadata": {},
   "outputs": [],
   "source": [
    "net1=Net1()\n",
    "optimizer1=torch.optim.Adam(net1.parameters())"
   ]
  },
  {
   "cell_type": "code",
   "execution_count": 7,
   "metadata": {},
   "outputs": [
    {
     "name": "stdout",
     "output_type": "stream",
     "text": [
      "tensor(0.3090, grad_fn=<NllLossBackward>)\n",
      "tensor(0.4452, grad_fn=<NllLossBackward>)\n",
      "tensor(0.2913, grad_fn=<NllLossBackward>)\n",
      "tensor(0.2244, grad_fn=<NllLossBackward>)\n",
      "tensor(0.0814, grad_fn=<NllLossBackward>)\n",
      "tensor(0.2715, grad_fn=<NllLossBackward>)\n",
      "tensor(0.1807, grad_fn=<NllLossBackward>)\n",
      "tensor(0.1911, grad_fn=<NllLossBackward>)\n",
      "tensor(0.4533, grad_fn=<NllLossBackward>)\n",
      "tensor(0.1086, grad_fn=<NllLossBackward>)\n"
     ]
    }
   ],
   "source": [
    "epoch=10\n",
    "for i in range(0,epoch):\n",
    "    for idx,data in enumerate(tra_dloader):\n",
    "        optimizer1.zero_grad()\n",
    "        x=data[0]\n",
    "        target=data[1]\n",
    "        y=net1(x)\n",
    "        loss=loss_fun(y,target)\n",
    "        loss.backward()\n",
    "        optimizer1.step()\n",
    "    print(loss)"
   ]
  },
  {
   "cell_type": "markdown",
   "metadata": {},
   "source": [
    "用来计算准确率"
   ]
  },
  {
   "cell_type": "code",
   "execution_count": 15,
   "metadata": {},
   "outputs": [],
   "source": [
    "eva_loader_tra=DataLoader(tra, batch_size=len(tra), shuffle=True)\n",
    "eva_loader_tes=DataLoader(tes, batch_size=len(tes), shuffle=True)"
   ]
  },
  {
   "cell_type": "markdown",
   "metadata": {},
   "source": [
    "计算训练准确率"
   ]
  },
  {
   "cell_type": "code",
   "execution_count": 19,
   "metadata": {},
   "outputs": [
    {
     "name": "stdout",
     "output_type": "stream",
     "text": [
      "tensor(0.9316)\n"
     ]
    }
   ],
   "source": [
    "for idx,data in enumerate(eva_loader_tra):\n",
    "    x=data[0]\n",
    "    target=data[1]\n",
    "    y=net1(x)\n",
    "    pre_y=torch.argmax(y,dim=1)\n",
    "    print(torch.sum(torch.eq(pre_y,target))/len(tra))"
   ]
  },
  {
   "cell_type": "markdown",
   "metadata": {},
   "source": [
    "计算测试准确率"
   ]
  },
  {
   "cell_type": "code",
   "execution_count": 20,
   "metadata": {},
   "outputs": [
    {
     "name": "stdout",
     "output_type": "stream",
     "text": [
      "tensor(0.9256)\n"
     ]
    }
   ],
   "source": [
    "for idx,data in enumerate(eva_loader_tes):\n",
    "    x=data[0]\n",
    "    target=data[1]\n",
    "    y=net1(x)\n",
    "    pre_y=torch.argmax(y,dim=1)\n",
    "    print(torch.sum(torch.eq(pre_y,target))/len(tes))"
   ]
  },
  {
   "cell_type": "markdown",
   "metadata": {},
   "source": [
    "两层神经网络定义"
   ]
  },
  {
   "cell_type": "code",
   "execution_count": 42,
   "metadata": {},
   "outputs": [],
   "source": [
    "class Net2(nn.Module):\n",
    "    def __init__(self):\n",
    "        super(Net2,self).__init__()\n",
    "        self.model=nn.Sequential(nn.Flatten(1,-1),nn.Linear(28*28,56),\n",
    "                                 nn.ReLU(),nn.Linear(56,10))\n",
    "    def forward(self,x):\n",
    "        return self.model(x)"
   ]
  },
  {
   "cell_type": "code",
   "execution_count": 43,
   "metadata": {},
   "outputs": [],
   "source": [
    "net2=Net2()\n",
    "optimizer2=torch.optim.Adam(net2.parameters())"
   ]
  },
  {
   "cell_type": "markdown",
   "metadata": {},
   "source": [
    "两层网络训练"
   ]
  },
  {
   "cell_type": "code",
   "execution_count": 45,
   "metadata": {},
   "outputs": [
    {
     "name": "stdout",
     "output_type": "stream",
     "text": [
      "tensor(0.2307, grad_fn=<NllLossBackward>)\n",
      "tensor(0.1527, grad_fn=<NllLossBackward>)\n",
      "tensor(0.1180, grad_fn=<NllLossBackward>)\n",
      "tensor(0.1748, grad_fn=<NllLossBackward>)\n",
      "tensor(0.1753, grad_fn=<NllLossBackward>)\n",
      "tensor(0.1432, grad_fn=<NllLossBackward>)\n",
      "tensor(0.0153, grad_fn=<NllLossBackward>)\n",
      "tensor(0.1745, grad_fn=<NllLossBackward>)\n",
      "tensor(0.0162, grad_fn=<NllLossBackward>)\n",
      "tensor(0.0120, grad_fn=<NllLossBackward>)\n"
     ]
    }
   ],
   "source": [
    "epoch=10\n",
    "for i in range(0,epoch):\n",
    "    for idx,data in enumerate(tra_dloader):\n",
    "        optimizer2.zero_grad()\n",
    "        x=data[0]\n",
    "        target=data[1]\n",
    "        y=net2(x)\n",
    "        loss=loss_fun(y,target)\n",
    "        loss.backward()\n",
    "        optimizer2.step()\n",
    "    print(loss)"
   ]
  },
  {
   "cell_type": "markdown",
   "metadata": {},
   "source": [
    "计算训练准确率"
   ]
  },
  {
   "cell_type": "code",
   "execution_count": 47,
   "metadata": {},
   "outputs": [
    {
     "name": "stdout",
     "output_type": "stream",
     "text": [
      "tensor(0.9857)\n"
     ]
    }
   ],
   "source": [
    "for idx,data in enumerate(eva_loader_tra):\n",
    "    x=data[0]\n",
    "    target=data[1]\n",
    "    y=net2(x)\n",
    "    pre_y=torch.argmax(y,dim=1)\n",
    "    print(torch.sum(torch.eq(pre_y,target))/len(tra))"
   ]
  },
  {
   "cell_type": "markdown",
   "metadata": {},
   "source": [
    "计算测试准确率"
   ]
  },
  {
   "cell_type": "code",
   "execution_count": 48,
   "metadata": {},
   "outputs": [
    {
     "name": "stdout",
     "output_type": "stream",
     "text": [
      "tensor(0.9717)\n"
     ]
    }
   ],
   "source": [
    "for idx,data in enumerate(eva_loader_tes):\n",
    "    x=data[0]\n",
    "    target=data[1]\n",
    "    y=net2(x)\n",
    "    pre_y=torch.argmax(y,dim=1)\n",
    "    print(torch.sum(torch.eq(pre_y,target))/len(tes))"
   ]
  }
 ],
 "metadata": {
  "kernelspec": {
   "display_name": "Python 3",
   "language": "python",
   "name": "python3"
  },
  "language_info": {
   "codemirror_mode": {
    "name": "ipython",
    "version": 3
   },
   "file_extension": ".py",
   "mimetype": "text/x-python",
   "name": "python",
   "nbconvert_exporter": "python",
   "pygments_lexer": "ipython3",
   "version": "3.8.5"
  }
 },
 "nbformat": 4,
 "nbformat_minor": 4
}
