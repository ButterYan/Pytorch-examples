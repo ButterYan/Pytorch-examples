{
 "cells": [
  {
   "cell_type": "markdown",
   "metadata": {},
   "source": [
    "波士顿数据集线性回归的梯度下降算法实现"
   ]
  },
  {
   "cell_type": "code",
   "execution_count": 10,
   "metadata": {},
   "outputs": [],
   "source": [
    "import torch\n",
    "import torch.nn as nn\n",
    "import numpy as np\n",
    "from sklearn.datasets import load_boston\n",
    "import matplotlib.pyplot as plt"
   ]
  },
  {
   "cell_type": "markdown",
   "metadata": {},
   "source": [
    "读取数据集"
   ]
  },
  {
   "cell_type": "code",
   "execution_count": 4,
   "metadata": {},
   "outputs": [],
   "source": [
    "X,y=load_boston(return_X_y=True)\n",
    "tra_X=torch.tensor(X[0:380,:]).float()\n",
    "tra_y=torch.tensor(y[0:380]).float()\n",
    "tes_X=torch.tensor(X[380:,:]).float()\n",
    "tes_y=torch.tensor(y[380:]).float()"
   ]
  },
  {
   "cell_type": "markdown",
   "metadata": {},
   "source": [
    "定义网络结构"
   ]
  },
  {
   "cell_type": "code",
   "execution_count": 5,
   "metadata": {},
   "outputs": [],
   "source": [
    "class Linear_regress(nn.Module):\n",
    "    def __init__(self):\n",
    "        super(Linear_regress,self).__init__()\n",
    "        self.func=nn.Linear(13,1)\n",
    "    def forward(self,x):\n",
    "        return self.func(x)"
   ]
  },
  {
   "cell_type": "markdown",
   "metadata": {},
   "source": [
    "损失函数"
   ]
  },
  {
   "cell_type": "code",
   "execution_count": 6,
   "metadata": {},
   "outputs": [],
   "source": [
    "loss_fun=nn.MSELoss()"
   ]
  },
  {
   "cell_type": "markdown",
   "metadata": {},
   "source": [
    "训练"
   ]
  },
  {
   "cell_type": "code",
   "execution_count": 7,
   "metadata": {},
   "outputs": [
    {
     "name": "stdout",
     "output_type": "stream",
     "text": [
      "train error: tensor(33.1312, grad_fn=<MseLossBackward>)\n"
     ]
    },
    {
     "data": {
      "image/png": "[encoded data removed]",
      "text/plain": [
       "<Figure size 432x288 with 1 Axes>"
      ]
     },
     "metadata": {
      "needs_background": "light"
     },
     "output_type": "display_data"
    }
   ],
   "source": [
    "mod=Linear_regress()\n",
    "step=0.000003\n",
    "recorder=np.zeros(100000)\n",
    "for i in range(0,100000):\n",
    "    mod.zero_grad()\n",
    "    pre=mod(tra_X)    \n",
    "    loss=loss_fun(pre.squeeze(),tra_y)\n",
    "    recorder[i]=loss\n",
    "    loss.backward()\n",
    "    for par in mod.parameters():\n",
    "        par.data.add_(-step*par.grad.data)\n",
    "\n",
    "\n",
    "plt.plot(recorder)\n",
    "plt.ylim(0,70)\n",
    "print('train error:',loss)"
   ]
  },
  {
   "cell_type": "markdown",
   "metadata": {},
   "source": [
    "查看参数"
   ]
  },
  {
   "cell_type": "code",
   "execution_count": 8,
   "metadata": {},
   "outputs": [
    {
     "name": "stdout",
     "output_type": "stream",
     "text": [
      "Parameter containing:\n",
      "tensor([[-0.0261,  0.0817,  0.0559,  0.2496,  0.0108,  1.7138,  0.0683, -0.6325,\n",
      "          0.3183, -0.0076, -0.1879,  0.0617, -0.8267]], requires_grad=True)\n",
      "Parameter containing:\n",
      "tensor([0.1059], requires_grad=True)\n"
     ]
    }
   ],
   "source": [
    "for par in mod.parameters():\n",
    "    print(par)"
   ]
  },
  {
   "cell_type": "markdown",
   "metadata": {},
   "source": [
    "计算测试误差"
   ]
  },
  {
   "cell_type": "code",
   "execution_count": 9,
   "metadata": {},
   "outputs": [
    {
     "name": "stdout",
     "output_type": "stream",
     "text": [
      "test error: tensor(89.5048, grad_fn=<MseLossBackward>)\n"
     ]
    }
   ],
   "source": [
    "tes_pre=mod(tes_X)\n",
    "print('test error:',loss_fun(tes_pre.squeeze(),tes_y))"
   ]
  },
  {
   "cell_type": "markdown",
   "metadata": {},
   "source": [
    "test error比train error大很多，怀疑模型可能存在过拟合的问题。下一篇，我们将使用LASSO回归建立一个模型，只需要在原有loss的基础上加上惩罚项。"
   ]
  }
 ],
 "metadata": {
  "kernelspec": {
   "display_name": "Python 3",
   "language": "python",
   "name": "python3"
  },
  "language_info": {
   "codemirror_mode": {
    "name": "ipython",
    "version": 3
   },
   "file_extension": ".py",
   "mimetype": "text/x-python",
   "name": "python",
   "nbconvert_exporter": "python",
   "pygments_lexer": "ipython3",
   "version": "3.8.5"
  }
 },
 "nbformat": 4,
 "nbformat_minor": 4
}
