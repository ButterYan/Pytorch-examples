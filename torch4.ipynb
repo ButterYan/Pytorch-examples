{
 "cells": [
  {
   "cell_type": "markdown",
   "metadata": {},
   "source": [
    "自定义损失函数对mnist数据集的多目标线性回归实现分类任务"
   ]
  },
  {
   "cell_type": "code",
   "execution_count": 2,
   "metadata": {},
   "outputs": [],
   "source": [
    "import torch\n",
    "import torch.nn as nn\n",
    "import numpy as np\n",
    "import torchvision.datasets as datasets\n",
    "import torchvision.transforms as transforms\n",
    "from torch.utils.data import DataLoader"
   ]
  },
  {
   "cell_type": "code",
   "execution_count": 3,
   "metadata": {},
   "outputs": [],
   "source": [
    "class_num=10\n",
    "epoch=10"
   ]
  },
  {
   "cell_type": "code",
   "execution_count": 3,
   "metadata": {},
   "outputs": [
    {
     "name": "stdout",
     "output_type": "stream",
     "text": [
      "<class 'torchvision.datasets.mnist.MNIST'>\n"
     ]
    },
    {
     "name": "stderr",
     "output_type": "stream",
     "text": [
      "D:\\python\\lib\\site-packages\\torchvision\\datasets\\mnist.py:498: UserWarning: The given NumPy array is not writeable, and PyTorch does not support non-writeable tensors. This means you can write to the underlying (supposedly non-writeable) NumPy array using the tensor. You may want to copy the array to protect its data or make it writeable before converting it to a tensor. This type of warning will be suppressed for the rest of this program. (Triggered internally at  ..\\torch\\csrc\\utils\\tensor_numpy.cpp:180.)\n",
      "  return torch.from_numpy(parsed.astype(m[2], copy=False)).view(*s)\n"
     ]
    }
   ],
   "source": [
    "tra=datasets.MNIST(root=\"data\",train=True, download=True,transform=transforms.ToTensor())\n",
    "tes=datasets.MNIST(root=\"data\",train=False, download=True,transform=transforms.ToTensor())\n",
    "tra_dloader = DataLoader(tra, batch_size=64, shuffle=True)\n",
    "tes_dloader = DataLoader(tes, batch_size=64, shuffle=True)\n",
    "print(type(tra))"
   ]
  },
  {
   "cell_type": "code",
   "execution_count": 5,
   "metadata": {},
   "outputs": [],
   "source": [
    "class mynn1(nn.Module):\n",
    "    def __init__(self):\n",
    "        super(mynn1, self).__init__()\n",
    "        self.flatten = nn.Flatten(1,-1)\n",
    "        self.fun = nn.Linear(28*28,10)\n",
    "    def forward(self, x):\n",
    "        x = self.flatten(x)\n",
    "        logits = self.fun(x)\n",
    "        return logits"
   ]
  },
  {
   "cell_type": "code",
   "execution_count": 6,
   "metadata": {},
   "outputs": [],
   "source": [
    "def loss_fun(target,y):\n",
    "    relu_fun=nn.ReLU()\n",
    "    los=0\n",
    "    tar_value=y[:,target]\n",
    "    ran_long=y.size()[0]\n",
    "    for i in range(0,ran_long):\n",
    "        false_cla=torch.cat((y[i,0:target[i]],y[i,(target[i]+1):class_num]),0)\n",
    "        false_max=torch.max(false_cla-y[i,target[i]]+1)\n",
    "        los=los+relu_fun(false_max)\n",
    "    return los/ran_long"
   ]
  },
  {
   "cell_type": "code",
   "execution_count": 7,
   "metadata": {},
   "outputs": [],
   "source": [
    "net1=mynn1()\n",
    "optimizer = torch.optim.Adam(net1.parameters())"
   ]
  },
  {
   "cell_type": "code",
   "execution_count": 8,
   "metadata": {},
   "outputs": [
    {
     "name": "stdout",
     "output_type": "stream",
     "text": [
      "tensor(0.1706, grad_fn=<DivBackward0>)\n",
      "tensor(0.4603, grad_fn=<DivBackward0>)\n",
      "tensor(0.1589, grad_fn=<DivBackward0>)\n",
      "tensor(0.2605, grad_fn=<DivBackward0>)\n",
      "tensor(0.1297, grad_fn=<DivBackward0>)\n",
      "tensor(0.3687, grad_fn=<DivBackward0>)\n",
      "tensor(0.2284, grad_fn=<DivBackward0>)\n",
      "tensor(0.0871, grad_fn=<DivBackward0>)\n",
      "tensor(0.2007, grad_fn=<DivBackward0>)\n",
      "tensor(0.2261, grad_fn=<DivBackward0>)\n"
     ]
    }
   ],
   "source": [
    "for i in range(0,epoch):\n",
    "    for idx,data in enumerate(tra_dloader):\n",
    "        optimizer.zero_grad()\n",
    "        x=data[0]\n",
    "        target=data[1]\n",
    "        y=net1(x)\n",
    "        loss=loss_fun(target,y)\n",
    "        loss.backward()\n",
    "        optimizer.step()\n",
    "    print(loss)"
   ]
  },
  {
   "cell_type": "markdown",
   "metadata": {},
   "source": [
    "写一个递推计算均值函数，用于计算平均正确率"
   ]
  },
  {
   "cell_type": "code",
   "execution_count": 21,
   "metadata": {},
   "outputs": [],
   "source": [
    "def mean_ditui(raw_mean,n,new_data):\n",
    "    return (raw_mean*n+new_data)/(n+1)"
   ]
  },
  {
   "cell_type": "markdown",
   "metadata": {},
   "source": [
    "对训练集计算预测正确率"
   ]
  },
  {
   "cell_type": "code",
   "execution_count": 23,
   "metadata": {},
   "outputs": [
    {
     "name": "stdout",
     "output_type": "stream",
     "text": [
      "tensor(0.9367)\n"
     ]
    }
   ],
   "source": [
    "total_mean=0\n",
    "for idx,data in enumerate(tra_dloader):\n",
    "        x=data[0]\n",
    "        target=data[1]\n",
    "        y=net1(x)\n",
    "        pre_cla=torch.argmax(y,1)\n",
    "        batch_mean=torch.mean((pre_cla==target).float())\n",
    "        total_mean=mean_ditui(total_mean,idx,batch_mean)\n",
    "print(total_mean)"
   ]
  },
  {
   "cell_type": "markdown",
   "metadata": {},
   "source": [
    "测试error"
   ]
  },
  {
   "cell_type": "code",
   "execution_count": 25,
   "metadata": {},
   "outputs": [
    {
     "name": "stdout",
     "output_type": "stream",
     "text": [
      "tensor(0.9312)\n"
     ]
    }
   ],
   "source": [
    "total_mean=0\n",
    "for idx,data in enumerate(tes_dloader):\n",
    "        x=data[0]\n",
    "        target=data[1]\n",
    "        y=net1(x)\n",
    "        pre_cla=torch.argmax(y,1)\n",
    "        batch_mean=torch.mean((pre_cla==target).float())\n",
    "        total_mean=mean_ditui(total_mean,idx,batch_mean)\n",
    "print(total_mean)"
   ]
  }
 ],
 "metadata": {
  "kernelspec": {
   "display_name": "Python 3",
   "language": "python",
   "name": "python3"
  },
  "language_info": {
   "codemirror_mode": {
    "name": "ipython",
    "version": 3
   },
   "file_extension": ".py",
   "mimetype": "text/x-python",
   "name": "python",
   "nbconvert_exporter": "python",
   "pygments_lexer": "ipython3",
   "version": "3.8.5"
  }
 },
 "nbformat": 4,
 "nbformat_minor": 4
}
