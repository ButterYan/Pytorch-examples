{
 "cells": [
  {
   "cell_type": "markdown",
   "metadata": {},
   "source": [
    "使用RNN预测德里天气情况"
   ]
  },
  {
   "cell_type": "code",
   "execution_count": 1,
   "metadata": {},
   "outputs": [],
   "source": [
    "import torch\n",
    "import torch.nn as nn\n",
    "import numpy as np\n",
    "import pandas as pd\n",
    "import matplotlib.pyplot as plt"
   ]
  },
  {
   "cell_type": "markdown",
   "metadata": {},
   "source": [
    "数据读取"
   ]
  },
  {
   "cell_type": "code",
   "execution_count": null,
   "metadata": {},
   "outputs": [],
   "source": [
    "raw_data=pd.read_csv('E:\\\\codes\\\\mygit\\\\Pytorch-examples\\\\DailyDelhiClimateTrain.csv',encoding='gbk')\n",
    "raw_data\n",
    "plt.hist(raw_data.iloc[:,2])"
   ]
  },
  {
   "cell_type": "markdown",
   "metadata": {},
   "source": [
    "数据归一化"
   ]
  },
  {
   "cell_type": "code",
   "execution_count": 101,
   "metadata": {},
   "outputs": [
    {
     "name": "stdout",
     "output_type": "stream",
     "text": [
      "meantemp          25.495521\n",
      "humidity          60.771702\n",
      "wind_speed         6.802209\n",
      "meanpressure    1011.104548\n",
      "dtype: float64\n",
      "meantemp          7.345589\n",
      "humidity         16.763916\n",
      "wind_speed        4.560042\n",
      "meanpressure    180.170019\n",
      "dtype: float64\n"
     ]
    },
    {
     "data": {
      "text/html": [
       "<div>\n",
       "<style scoped>\n",
       "    .dataframe tbody tr th:only-of-type {\n",
       "        vertical-align: middle;\n",
       "    }\n",
       "\n",
       "    .dataframe tbody tr th {\n",
       "        vertical-align: top;\n",
       "    }\n",
       "\n",
       "    .dataframe thead th {\n",
       "        text-align: right;\n",
       "    }\n",
       "</style>\n",
       "<table border=\"1\" class=\"dataframe\">\n",
       "  <thead>\n",
       "    <tr style=\"text-align: right;\">\n",
       "      <th></th>\n",
       "      <th>humidity</th>\n",
       "      <th>meanpressure</th>\n",
       "      <th>meantemp</th>\n",
       "      <th>wind_speed</th>\n",
       "    </tr>\n",
       "  </thead>\n",
       "  <tbody>\n",
       "    <tr>\n",
       "      <th>0</th>\n",
       "      <td>23.728298</td>\n",
       "      <td>4.562119</td>\n",
       "      <td>-15.495521</td>\n",
       "      <td>-6.802209</td>\n",
       "    </tr>\n",
       "    <tr>\n",
       "      <th>1</th>\n",
       "      <td>31.228298</td>\n",
       "      <td>6.695452</td>\n",
       "      <td>-18.095521</td>\n",
       "      <td>-3.822209</td>\n",
       "    </tr>\n",
       "    <tr>\n",
       "      <th>2</th>\n",
       "      <td>26.228298</td>\n",
       "      <td>7.562119</td>\n",
       "      <td>-18.328854</td>\n",
       "      <td>-2.168875</td>\n",
       "    </tr>\n",
       "    <tr>\n",
       "      <th>3</th>\n",
       "      <td>10.561632</td>\n",
       "      <td>6.062119</td>\n",
       "      <td>-16.828854</td>\n",
       "      <td>-5.568875</td>\n",
       "    </tr>\n",
       "    <tr>\n",
       "      <th>4</th>\n",
       "      <td>26.061632</td>\n",
       "      <td>5.395452</td>\n",
       "      <td>-19.495521</td>\n",
       "      <td>-3.102209</td>\n",
       "    </tr>\n",
       "    <tr>\n",
       "      <th>...</th>\n",
       "      <td>...</td>\n",
       "      <td>...</td>\n",
       "      <td>...</td>\n",
       "      <td>...</td>\n",
       "    </tr>\n",
       "    <tr>\n",
       "      <th>1457</th>\n",
       "      <td>7.271777</td>\n",
       "      <td>4.460670</td>\n",
       "      <td>-8.278129</td>\n",
       "      <td>-3.254383</td>\n",
       "    </tr>\n",
       "    <tr>\n",
       "      <th>1458</th>\n",
       "      <td>27.085441</td>\n",
       "      <td>5.800214</td>\n",
       "      <td>-10.257425</td>\n",
       "      <td>-0.802209</td>\n",
       "    </tr>\n",
       "    <tr>\n",
       "      <th>1459</th>\n",
       "      <td>28.894965</td>\n",
       "      <td>6.800214</td>\n",
       "      <td>-11.400283</td>\n",
       "      <td>-0.535542</td>\n",
       "    </tr>\n",
       "    <tr>\n",
       "      <th>1460</th>\n",
       "      <td>26.228298</td>\n",
       "      <td>4.995452</td>\n",
       "      <td>-10.442889</td>\n",
       "      <td>0.522791</td>\n",
       "    </tr>\n",
       "    <tr>\n",
       "      <th>1461</th>\n",
       "      <td>39.228298</td>\n",
       "      <td>4.895452</td>\n",
       "      <td>-15.495521</td>\n",
       "      <td>-6.802209</td>\n",
       "    </tr>\n",
       "  </tbody>\n",
       "</table>\n",
       "<p>1462 rows × 4 columns</p>\n",
       "</div>"
      ],
      "text/plain": [
       "       humidity  meanpressure   meantemp  wind_speed\n",
       "0     23.728298      4.562119 -15.495521   -6.802209\n",
       "1     31.228298      6.695452 -18.095521   -3.822209\n",
       "2     26.228298      7.562119 -18.328854   -2.168875\n",
       "3     10.561632      6.062119 -16.828854   -5.568875\n",
       "4     26.061632      5.395452 -19.495521   -3.102209\n",
       "...         ...           ...        ...         ...\n",
       "1457   7.271777      4.460670  -8.278129   -3.254383\n",
       "1458  27.085441      5.800214 -10.257425   -0.802209\n",
       "1459  28.894965      6.800214 -11.400283   -0.535542\n",
       "1460  26.228298      4.995452 -10.442889    0.522791\n",
       "1461  39.228298      4.895452 -15.495521   -6.802209\n",
       "\n",
       "[1462 rows x 4 columns]"
      ]
     },
     "execution_count": 101,
     "metadata": {},
     "output_type": "execute_result"
    }
   ],
   "source": [
    "raw_mean=np.mean(raw_data)\n",
    "print(raw_mean)\n",
    "raw_std=np.std(raw_data)\n",
    "print(raw_std)\n",
    "data=raw_data-raw_mean\n",
    "data=data.iloc[:,1:]\n",
    "data"
   ]
  },
  {
   "cell_type": "markdown",
   "metadata": {},
   "source": [
    "转成张量"
   ]
  },
  {
   "cell_type": "code",
   "execution_count": 90,
   "metadata": {},
   "outputs": [
    {
     "name": "stdout",
     "output_type": "stream",
     "text": [
      "torch.Size([1, 1462, 4])\n"
     ]
    }
   ],
   "source": [
    "data=np.array(data)\n",
    "data=data.astype(np.float32)\n",
    "data=torch.tensor(data)\n",
    "data=torch.unsqueeze(data,0)\n",
    "print(data.shape)"
   ]
  },
  {
   "cell_type": "code",
   "execution_count": 91,
   "metadata": {},
   "outputs": [],
   "source": [
    "loss_fun=nn.MSELoss()"
   ]
  },
  {
   "cell_type": "code",
   "execution_count": 92,
   "metadata": {},
   "outputs": [
    {
     "data": {
      "text/plain": [
       "torch.Size([1, 1462, 4])"
      ]
     },
     "execution_count": 92,
     "metadata": {},
     "output_type": "execute_result"
    }
   ],
   "source": [
    "main=nn.RNN(4,4,num_layers=1,nonlinearity='relu',batch_first=True)\n",
    "pre,h2=main(data)\n",
    "pre.shape"
   ]
  },
  {
   "cell_type": "code",
   "execution_count": 93,
   "metadata": {},
   "outputs": [],
   "source": [
    "class Net(nn.Module):\n",
    "    def __init__(self):\n",
    "        super(Net,self).__init__()\n",
    "        self.main=nn.RNN(4,4,num_layers=1,nonlinearity='relu',batch_first=True)\n",
    "        self.FC=nn.Sequential(nn.Linear(4,4),nn.ReLU())\n",
    "    def forward(self,x,h):\n",
    "        x,h2=self.main(x,h)\n",
    "        x=self.FC(x)\n",
    "        return x"
   ]
  },
  {
   "cell_type": "code",
   "execution_count": 94,
   "metadata": {},
   "outputs": [],
   "source": [
    "net=Net()\n",
    "optimizer=torch.optim.Adam(net.parameters())"
   ]
  },
  {
   "cell_type": "code",
   "execution_count": 96,
   "metadata": {},
   "outputs": [
    {
     "name": "stdout",
     "output_type": "stream",
     "text": [
      "tensor(8204.7080, grad_fn=<MseLossBackward0>)\n",
      "tensor(8203.6416, grad_fn=<MseLossBackward0>)\n",
      "tensor(8202.6152, grad_fn=<MseLossBackward0>)\n",
      "tensor(8201.6289, grad_fn=<MseLossBackward0>)\n",
      "tensor(8200.6797, grad_fn=<MseLossBackward0>)\n",
      "tensor(8199.7646, grad_fn=<MseLossBackward0>)\n",
      "tensor(8198.8838, grad_fn=<MseLossBackward0>)\n",
      "tensor(8198.0352, grad_fn=<MseLossBackward0>)\n",
      "tensor(8197.2168, grad_fn=<MseLossBackward0>)\n",
      "tensor(8196.4277, grad_fn=<MseLossBackward0>)\n",
      "tensor(8195.6680, grad_fn=<MseLossBackward0>)\n",
      "tensor(8194.9346, grad_fn=<MseLossBackward0>)\n",
      "tensor(8194.2246, grad_fn=<MseLossBackward0>)\n",
      "tensor(8193.5400, grad_fn=<MseLossBackward0>)\n",
      "tensor(8192.8789, grad_fn=<MseLossBackward0>)\n",
      "tensor(8192.2422, grad_fn=<MseLossBackward0>)\n",
      "tensor(8191.6250, grad_fn=<MseLossBackward0>)\n",
      "tensor(8191.0308, grad_fn=<MseLossBackward0>)\n",
      "tensor(8190.4551, grad_fn=<MseLossBackward0>)\n",
      "tensor(8189.8979, grad_fn=<MseLossBackward0>)\n",
      "tensor(8189.3589, grad_fn=<MseLossBackward0>)\n",
      "tensor(8188.8394, grad_fn=<MseLossBackward0>)\n",
      "tensor(8188.3345, grad_fn=<MseLossBackward0>)\n",
      "tensor(8187.8462, grad_fn=<MseLossBackward0>)\n",
      "tensor(8187.3750, grad_fn=<MseLossBackward0>)\n",
      "tensor(8186.9150, grad_fn=<MseLossBackward0>)\n",
      "tensor(8186.4727, grad_fn=<MseLossBackward0>)\n",
      "tensor(8186.0425, grad_fn=<MseLossBackward0>)\n",
      "tensor(8185.6279, grad_fn=<MseLossBackward0>)\n",
      "tensor(8185.2256, grad_fn=<MseLossBackward0>)\n",
      "tensor(8184.8350, grad_fn=<MseLossBackward0>)\n",
      "tensor(8184.4541, grad_fn=<MseLossBackward0>)\n",
      "tensor(8184.0869, grad_fn=<MseLossBackward0>)\n",
      "tensor(8183.7300, grad_fn=<MseLossBackward0>)\n",
      "tensor(8183.3843, grad_fn=<MseLossBackward0>)\n",
      "tensor(8183.0479, grad_fn=<MseLossBackward0>)\n",
      "tensor(8182.7207, grad_fn=<MseLossBackward0>)\n",
      "tensor(8182.4048, grad_fn=<MseLossBackward0>)\n",
      "tensor(8182.0972, grad_fn=<MseLossBackward0>)\n",
      "tensor(8181.7974, grad_fn=<MseLossBackward0>)\n",
      "tensor(8181.5063, grad_fn=<MseLossBackward0>)\n",
      "tensor(8181.2241, grad_fn=<MseLossBackward0>)\n",
      "tensor(8180.9482, grad_fn=<MseLossBackward0>)\n",
      "tensor(8180.6807, grad_fn=<MseLossBackward0>)\n",
      "tensor(8180.4194, grad_fn=<MseLossBackward0>)\n",
      "tensor(8180.1641, grad_fn=<MseLossBackward0>)\n",
      "tensor(8179.9165, grad_fn=<MseLossBackward0>)\n",
      "tensor(8179.6758, grad_fn=<MseLossBackward0>)\n",
      "tensor(8179.4419, grad_fn=<MseLossBackward0>)\n",
      "tensor(8179.2114, grad_fn=<MseLossBackward0>)\n",
      "tensor(8178.9893, grad_fn=<MseLossBackward0>)\n",
      "tensor(8178.7725, grad_fn=<MseLossBackward0>)\n",
      "tensor(8178.5601, grad_fn=<MseLossBackward0>)\n",
      "tensor(8178.3550, grad_fn=<MseLossBackward0>)\n",
      "tensor(8178.1548, grad_fn=<MseLossBackward0>)\n",
      "tensor(8177.9585, grad_fn=<MseLossBackward0>)\n",
      "tensor(8177.7681, grad_fn=<MseLossBackward0>)\n",
      "tensor(8177.5801, grad_fn=<MseLossBackward0>)\n",
      "tensor(8177.3960, grad_fn=<MseLossBackward0>)\n",
      "tensor(8177.2188, grad_fn=<MseLossBackward0>)\n"
     ]
    }
   ],
   "source": [
    "epoch=300\n",
    "for i in range(0,epoch):\n",
    "    optimizer.zero_grad()\n",
    "    pre=net(data,torch.zeros(1,1,4))\n",
    "    loss=loss_fun(pre,data)\n",
    "    loss.backward()\n",
    "    optimizer.step()\n",
    "    if i%5==0:\n",
    "        print(loss)"
   ]
  },
  {
   "cell_type": "code",
   "execution_count": null,
   "metadata": {},
   "outputs": [],
   "source": []
  },
  {
   "cell_type": "code",
   "execution_count": null,
   "metadata": {},
   "outputs": [],
   "source": []
  },
  {
   "cell_type": "code",
   "execution_count": 75,
   "metadata": {},
   "outputs": [
    {
     "data": {
      "text/plain": [
       "tensor(1.)"
      ]
     },
     "execution_count": 75,
     "metadata": {},
     "output_type": "execute_result"
    }
   ],
   "source": [
    "loss_fun(torch.zeros(2,3),torch.ones(2,3))"
   ]
  }
 ],
 "metadata": {
  "kernelspec": {
   "display_name": "Python 3",
   "language": "python",
   "name": "python3"
  },
  "language_info": {
   "codemirror_mode": {
    "name": "ipython",
    "version": 3
   },
   "file_extension": ".py",
   "mimetype": "text/x-python",
   "name": "python",
   "nbconvert_exporter": "python",
   "pygments_lexer": "ipython3",
   "version": "3.8.5"
  }
 },
 "nbformat": 4,
 "nbformat_minor": 4
}
