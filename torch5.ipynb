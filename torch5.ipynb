{
 "cells": [
  {
   "cell_type": "markdown",
   "metadata": {},
   "source": [
    "乳腺癌数据的logistic回归"
   ]
  },
  {
   "cell_type": "code",
   "execution_count": 71,
   "metadata": {},
   "outputs": [],
   "source": [
    "import torch\n",
    "import torch.nn as nn\n",
    "import numpy as np\n",
    "from sklearn.datasets import load_breast_cancer\n",
    "import torchvision.datasets as datasets\n",
    "from torch.utils.data import Dataset,DataLoader"
   ]
  },
  {
   "cell_type": "markdown",
   "metadata": {},
   "source": [
    "自定义dataset"
   ]
  },
  {
   "cell_type": "code",
   "execution_count": 82,
   "metadata": {},
   "outputs": [],
   "source": [
    "class Breast_CancerDataset(Dataset):\n",
    "    def __init__(self,train=True):\n",
    "        X,y=load_breast_cancer(return_X_y=True)\n",
    "        if train:\n",
    "            self.X=torch.tensor(X[0:427,:]).float()\n",
    "            self.y=torch.tensor(y[0:427]).float()\n",
    "        else:\n",
    "            self.X=torch.tensor(X[427:,:]).float()\n",
    "            self.y=torch.tensor(y[427:]).float()\n",
    "    def __len__(self):\n",
    "        return len(self.y)\n",
    "    def __getitem__(self,idx):\n",
    "        return self.X[idx,:],self.y[idx]"
   ]
  },
  {
   "cell_type": "code",
   "execution_count": 73,
   "metadata": {},
   "outputs": [],
   "source": [
    "tra=Breast_CancerDataset(train=True)\n",
    "tes=Breast_CancerDataset(train=False)\n",
    "tra_dloader=DataLoader(tra,batch_size=427,shuffle=True)\n",
    "tes_dloader=DataLoader(tes,batch_size=142,shuffle=True)"
   ]
  },
  {
   "cell_type": "markdown",
   "metadata": {},
   "source": [
    "建立神经网络"
   ]
  },
  {
   "cell_type": "code",
   "execution_count": 79,
   "metadata": {},
   "outputs": [],
   "source": [
    "class Net(nn.Module):\n",
    "    def __init__(self):\n",
    "        super(Net, self).__init__()\n",
    "        self.fun = nn.Linear(30,1)\n",
    "        self.activate=nn.Sigmoid()\n",
    "        self.flatten = nn.Flatten(0,1)\n",
    "    def forward(self, x):\n",
    "        x = self.fun(x)\n",
    "        x =self.activate(x)\n",
    "        return self.flatten(x)"
   ]
  },
  {
   "cell_type": "markdown",
   "metadata": {},
   "source": [
    "损失函数与优化器"
   ]
  },
  {
   "cell_type": "code",
   "execution_count": 86,
   "metadata": {},
   "outputs": [],
   "source": [
    "loss_fun=nn.BCELoss()\n",
    "net=Net()\n",
    "optimizer = torch.optim.Adam(net.parameters())"
   ]
  },
  {
   "cell_type": "markdown",
   "metadata": {},
   "source": [
    "网络训练"
   ]
  },
  {
   "cell_type": "code",
   "execution_count": 87,
   "metadata": {},
   "outputs": [
    {
     "name": "stdout",
     "output_type": "stream",
     "text": [
      "tensor(0.0659, grad_fn=<BinaryCrossEntropyBackward>)\n"
     ]
    }
   ],
   "source": [
    "epoch=10000\n",
    "for i in range(0,epoch):\n",
    "    for idx,data in enumerate(tra_dloader):\n",
    "        optimizer.zero_grad()\n",
    "        x=data[0]\n",
    "        target=data[1]\n",
    "        y=net(x)\n",
    "        loss=loss_fun(y,target)\n",
    "        loss.backward()\n",
    "        optimizer.step()\n",
    "print(loss)        "
   ]
  },
  {
   "cell_type": "markdown",
   "metadata": {},
   "source": [
    "计算测试误差"
   ]
  },
  {
   "cell_type": "code",
   "execution_count": 88,
   "metadata": {},
   "outputs": [
    {
     "name": "stdout",
     "output_type": "stream",
     "text": [
      "tensor(0.1217, grad_fn=<BinaryCrossEntropyBackward>)\n"
     ]
    }
   ],
   "source": [
    "for idx,data in enumerate(tes_dloader):\n",
    "    x=data[0]\n",
    "    target=data[1]\n",
    "    y=net(x)\n",
    "    tes_loss=loss_fun(y,target)\n",
    "    print(tes_loss)"
   ]
  },
  {
   "cell_type": "markdown",
   "metadata": {},
   "source": [
    "计算预测正确率"
   ]
  },
  {
   "cell_type": "code",
   "execution_count": 93,
   "metadata": {},
   "outputs": [
    {
     "name": "stdout",
     "output_type": "stream",
     "text": [
      "tensor(0.9285, grad_fn=<RsubBackward1>)\n"
     ]
    }
   ],
   "source": [
    "fun2=nn.L1Loss()\n",
    "for idx,data in enumerate(tes_dloader):\n",
    "    x=data[0]\n",
    "    target=data[1]\n",
    "    y=net(x)\n",
    "    pre=torch.round(y)\n",
    "    print(1-fun2(y,target))"
   ]
  }
 ],
 "metadata": {
  "kernelspec": {
   "display_name": "Python 3",
   "language": "python",
   "name": "python3"
  },
  "language_info": {
   "codemirror_mode": {
    "name": "ipython",
    "version": 3
   },
   "file_extension": ".py",
   "mimetype": "text/x-python",
   "name": "python",
   "nbconvert_exporter": "python",
   "pygments_lexer": "ipython3",
   "version": "3.8.5"
  }
 },
 "nbformat": 4,
 "nbformat_minor": 4
}
